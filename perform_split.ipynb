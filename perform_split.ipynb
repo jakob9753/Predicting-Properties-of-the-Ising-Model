{
 "cells": [
  {
   "cell_type": "markdown",
   "id": "edfba921-5b6f-4f4e-a0fc-3c136070a340",
   "metadata": {},
   "source": [
    "This program combines the files with the generated spin configurations (generated with generate_data.ipynb) such that three files are produced. <br>\n",
    "One training set file, <br>\n",
    "one validation set file, <br>\n",
    "one test set file. <br>\n",
    "These files are stored in a subfolder of the parent path calles \"spin_configurations\""
   ]
  },
  {
   "cell_type": "code",
   "execution_count": 1,
   "id": "6137950a-c5b8-47eb-a255-ece08bfcf737",
   "metadata": {},
   "outputs": [],
   "source": [
    "import numpy as np\n",
    "import os\n",
    "import math\n",
    "import matplotlib.pyplot as plt\n",
    "from matplotlib.animation import FuncAnimation\n",
    "import timeit\n",
    "\n",
    "import tensorflow as tf\n",
    "from tensorflow import keras\n",
    "from tensorflow.keras import layers"
   ]
  },
  {
   "cell_type": "code",
   "execution_count": 2,
   "id": "d54bad8f-dc9c-4e3b-bc2f-638617e07b4b",
   "metadata": {},
   "outputs": [],
   "source": [
    "# constants \n",
    "T_c = 2 / (math.log(1 + math.sqrt(2)))\n",
    "\n",
    "cpath = os.getcwd()\n",
    "ppath = os.path.abspath(os.path.join(cpath, os.pardir))\n",
    "\n"
   ]
  },
  {
   "cell_type": "markdown",
   "id": "ba4f230e-0208-4e00-9201-4f2014a98a23",
   "metadata": {},
   "source": [
    "#### Read Data + add temperature and magnetization information"
   ]
  },
  {
   "cell_type": "code",
   "execution_count": 1,
   "id": "c6b8ba5a-dcf0-4d26-bc14-9bb2162a80fd",
   "metadata": {},
   "outputs": [],
   "source": [
    "# variables to change\n",
    "n=40 # lattice size of the ising model\n",
    "samples_per_file = 1000 # sunber of spin configurations contained in one file\n",
    "\n",
    "# if generated with default settings of generate_data.ipynb then one set includes 16000 samples\n",
    "no_sets = 1"
   ]
  },
  {
   "cell_type": "code",
   "execution_count": 3,
   "id": "be5d0e95-5ef2-41d8-99b6-911e2fdcee1c",
   "metadata": {},
   "outputs": [
    {
     "name": "stdout",
     "output_type": "stream",
     "text": [
      "(16000, 1603)\n"
     ]
    }
   ],
   "source": [
    "\n",
    "n_total = n*n\n",
    "\n",
    "kbT_sequence = [1.5, 1.7, 1.8, 1.9, 2.0, 2.1, 2.2, T_c, 2.3, 2.4, 2.5, 2.6, 2.7, 2.8, 3.0, 3.5]\n",
    "no_classes = len(kbT_sequence)\n",
    "dataset = np.zeros((len(kbT_sequence)*samples_per_file*no_sets,n_total + 3), dtype='float')\n",
    "print(dataset.shape)\n",
    "\n",
    "filecounter = 0\n",
    "for j in range(no_sets):\n",
    "    foldername = 'spin_configurations/set'+str(j+1)\n",
    "    for i, kbT in enumerate(kbT_sequence):\n",
    "        \n",
    "        filename = 'spin_configurations_'+str(n)+'_'+str(kbT)+'.txt'\n",
    "        filepath = os.path.join(ppath, foldername, filename)\n",
    "        \n",
    "        configurations = np.genfromtxt(filepath, dtype='float', delimiter=',', skip_header=2)\n",
    "        dataset[samples_per_file*filecounter:samples_per_file*(filecounter+1),0:-3] = configurations\n",
    "        \n",
    "        # temperatures\n",
    "        dataset[samples_per_file*filecounter:samples_per_file*(filecounter+1),-3] = i\n",
    "        \n",
    "        # magnetizations\n",
    "        configurations_2 = (2 * configurations) - 1\n",
    "        dataset[samples_per_file*filecounter:samples_per_file*(filecounter+1),-2] = np.mean(configurations_2, axis=1, dtype='float64')\n",
    "\n",
    "        if kbT <= T_c:\n",
    "            dataset[samples_per_file*filecounter:samples_per_file*(filecounter+1),-1] = 1\n",
    "        else:\n",
    "            dataset[samples_per_file*filecounter:samples_per_file*(filecounter+1),-1] = 0\n",
    "            \n",
    "        filecounter += 1"
   ]
  },
  {
   "cell_type": "markdown",
   "id": "1008adb2-76e6-417b-954a-e1a1f5e9cf2c",
   "metadata": {},
   "source": [
    "#### Save Data to files"
   ]
  },
  {
   "cell_type": "code",
   "execution_count": 4,
   "id": "0a1e9e39-ab55-4b5f-98f3-9be74cf96932",
   "metadata": {
    "scrolled": true,
    "tags": []
   },
   "outputs": [
    {
     "name": "stdout",
     "output_type": "stream",
     "text": [
      "(11200, 1603) (2400, 1603) (2400, 1603)\n"
     ]
    }
   ],
   "source": [
    "no_samples = len(dataset)\n",
    "\n",
    "\n",
    "# the data split is performed with those ratios: 70% training, 15% validation, 15% test.\n",
    "trainsize=0.7\n",
    "validsize=0.15\n",
    "testsize=0.15\n",
    "\n",
    "train_idx=int(samples_per_file*trainsize)\n",
    "valid_idx=int(train_idx + samples_per_file*validsize)\n",
    "test_idx=int(valid_idx + samples_per_file*testsize)\n",
    "\n",
    "training_data = dataset[0:train_idx]\n",
    "validation_data = dataset[train_idx:valid_idx]\n",
    "test_data = dataset[valid_idx:test_idx]\n",
    "\n",
    "for i in range(1,no_classes*no_sets):\n",
    "    current_idx = samples_per_file*i\n",
    "\n",
    "    training_data = np.concatenate((training_data,dataset[current_idx : current_idx + train_idx]))\n",
    "    validation_data = np.concatenate((validation_data,dataset[current_idx + train_idx : current_idx + valid_idx]))\n",
    "    test_data = np.concatenate((test_data,dataset[current_idx + valid_idx : current_idx + test_idx]))\n",
    "    \n",
    "np.random.shuffle(training_data)\n",
    "np.random.shuffle(validation_data)\n",
    "np.random.shuffle(test_data)\n",
    "\n",
    "print(training_data.shape,validation_data.shape,test_data.shape)\n",
    "\n",
    "\n",
    "training_features_filename = \"training_features_\" + str(n) + \".txt\"\n",
    "validation_features_filename = \"validation_features_\" + str(n) + \".txt\"\n",
    "test_features_filename = \"test_features_\" + str(n) + \".txt\"\n",
    "\n",
    "training_temperatures_filename = \"training_temperatures_\" + str(n) + \".txt\"\n",
    "validation_temperatures_filename = \"validation_temperatures_\" + str(n) + \".txt\"\n",
    "test_temperatures_filename = \"test_temperatures_\" + str(n) + \".txt\"\n",
    "\n",
    "training_magnetizations_filename = \"training_magnetizations_\" + str(n) + \".txt\"\n",
    "validation_magnetizations_filename = \"validation_magnetizations_\" + str(n) + \".txt\"\n",
    "test_magnetizations_filename = \"test_magnetizations_\" + str(n) + \".txt\"\n",
    "\n",
    "training_phases_filename = \"training_phases_\" + str(n) + \".txt\"\n",
    "validation_phases_filename = \"validation_phases_\" + str(n) + \".txt\"\n",
    "test_phases_filename = \"test_phases_\" + str(n) + \".txt\"\n",
    "\n",
    "\n",
    "np.savetxt(os.path.join(ppath, 'spin_configurations', training_features_filename), training_data[:,:-3].astype('int'), fmt='%i', delimiter=',')\n",
    "np.savetxt(os.path.join(ppath, 'spin_configurations', validation_features_filename), validation_data[:,:-3].astype('int'), fmt='%i', delimiter=',')\n",
    "np.savetxt(os.path.join(ppath, 'spin_configurations', test_features_filename), test_data[:,:-3].astype('int'), fmt='%i', delimiter=',')\n",
    "\n",
    "# saving the temperature indices in a separater file\n",
    "np.savetxt(os.path.join(ppath, 'spin_configurations', training_temperatures_filename), training_data[:,-3].astype('int'), fmt='%i', delimiter=',')\n",
    "np.savetxt(os.path.join(ppath, 'spin_configurations', validation_temperatures_filename), validation_data[:,-3].astype('int'), fmt='%i', delimiter=',')\n",
    "np.savetxt(os.path.join(ppath, 'spin_configurations', test_temperatures_filename), test_data[:,-3].astype('int'), fmt='%i', delimiter=',')\n",
    "\n",
    "# saving the magnetizations in a separater file\n",
    "np.savetxt(os.path.join(ppath, 'spin_configurations', training_magnetizations_filename), training_data[:,-2], fmt='%.18f', delimiter=',')\n",
    "np.savetxt(os.path.join(ppath, 'spin_configurations', validation_magnetizations_filename), validation_data[:,-2], fmt='%.18f', delimiter=',')\n",
    "np.savetxt(os.path.join(ppath, 'spin_configurations', test_magnetizations_filename), test_data[:,-2], fmt='%.18f', delimiter=',')\n",
    "\n",
    "# saving the phase states in a separate file\n",
    "np.savetxt(os.path.join(ppath, 'spin_configurations', training_phases_filename), training_data[:,-1].astype('int'), fmt='%i', delimiter=',')\n",
    "np.savetxt(os.path.join(ppath, 'spin_configurations', validation_phases_filename), validation_data[:,-1].astype('int'), fmt='%i', delimiter=',')\n",
    "np.savetxt(os.path.join(ppath, 'spin_configurations', test_phases_filename), test_data[:,-1].astype('int'), fmt='%i', delimiter=',')\n",
    "\n",
    "\n"
   ]
  }
 ],
 "metadata": {
  "kernelspec": {
   "display_name": "Python [conda env:datascience1] *",
   "language": "python",
   "name": "conda-env-datascience1-py"
  },
  "language_info": {
   "codemirror_mode": {
    "name": "ipython",
    "version": 3
   },
   "file_extension": ".py",
   "mimetype": "text/x-python",
   "name": "python",
   "nbconvert_exporter": "python",
   "pygments_lexer": "ipython3",
   "version": "3.8.11"
  }
 },
 "nbformat": 4,
 "nbformat_minor": 5
}
